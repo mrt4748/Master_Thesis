{
 "cells": [
  {
   "cell_type": "code",
   "execution_count": 1,
   "metadata": {},
   "outputs": [],
   "source": [
    "#import libraries\n",
    "import math\n",
    "import pandas as pd\n",
    "import numpy as np"
   ]
  },
  {
   "cell_type": "code",
   "execution_count": 2,
   "metadata": {},
   "outputs": [],
   "source": [
    "#import stock tree\n",
    "stock = pd.read_excel('stock.xlsx',index_col=0)\n",
    "\n",
    "#import possible interest_rates which are derived from CRR_BDT model code\n",
    "interest_rates = pd.read_excel('interest_rates.xlsx',index_col=0)\n",
    "\n",
    "#import risk_neutral_probabilities which are derived from CRR_BDT model code\n",
    "probs = pd.read_excel('risk_neutral_probabilities.xlsx',index_col=0)\n",
    "\n",
    "#import strike prices\n",
    "strike = pd.read_excel('strike.xlsx', index_col=0)"
   ]
  },
  {
   "cell_type": "code",
   "execution_count": 15,
   "metadata": {},
   "outputs": [],
   "source": [
    "#adjust maturity\n",
    "period = len(stock) - 1"
   ]
  },
  {
   "cell_type": "code",
   "execution_count": 17,
   "metadata": {},
   "outputs": [],
   "source": [
    "prices = []\n",
    "count = -1\n",
    "for K in strike:\n",
    "    prices = []\n",
    "    count = -1\n",
    "    for i in range (period,-1,-1):\n",
    "        price = []\n",
    "        if i == period:\n",
    "            for j in range(0,period+1):\n",
    "                price.append(max(stock.iloc[i,j]-K,0))\n",
    "            prices.append(price) \n",
    "        if i != period:\n",
    "            for j in range(0,i+1):\n",
    "                value = prices[count][j]* (1-probs.iloc[i,j]) + prices[count][j+1]* (probs.iloc[i,j])\n",
    "                pv = value / (math.exp(interest_rates.iloc[i,j]))\n",
    "                price.append(pv)\n",
    "            prices.append(price)               \n",
    "        count = count + 1\n",
    "    results.append(pd.DataFrame(prices).iloc[-1,0])"
   ]
  },
  {
   "cell_type": "code",
   "execution_count": 19,
   "metadata": {},
   "outputs": [],
   "source": [
    "pd.DataFrame(results).to_excel('option_prices.xlsx')"
   ]
  }
 ],
 "metadata": {
  "kernelspec": {
   "display_name": "Python 3",
   "language": "python",
   "name": "python3"
  },
  "language_info": {
   "codemirror_mode": {
    "name": "ipython",
    "version": 3
   },
   "file_extension": ".py",
   "mimetype": "text/x-python",
   "name": "python",
   "nbconvert_exporter": "python",
   "pygments_lexer": "ipython3",
   "version": "3.8.3"
  }
 },
 "nbformat": 4,
 "nbformat_minor": 4
}
