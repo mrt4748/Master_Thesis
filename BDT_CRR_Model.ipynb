{
 "cells": [
  {
   "cell_type": "code",
   "execution_count": 1,
   "metadata": {},
   "outputs": [],
   "source": [
    "#import libraries\n",
    "import math\n",
    "import pandas as pd\n",
    "import numpy as np\n",
    "from scipy.optimize import fsolve"
   ]
  },
  {
   "cell_type": "code",
   "execution_count": 2,
   "metadata": {},
   "outputs": [],
   "source": [
    "#define index change rate\n",
    "u = 1.128208823\n",
    "d = 1/u\n",
    "\n",
    "#define current interest rate\n",
    "r_0 = 0.0006\n",
    "\n",
    "#define bond prices and volatilities\n",
    "price_2 = 98.96589012\n",
    "vol_2 = 0.013504395\n",
    "\n",
    "price_3 = 97.4512835\n",
    "vol_3 = 0.026782142\n",
    "\n",
    "price_4 = 95.92012621\n",
    "vol_4  = 0.038335293\n",
    "\n",
    "price_5 = 94.06593247\n",
    "vol_5 = 0.051799679"
   ]
  },
  {
   "cell_type": "markdown",
   "metadata": {},
   "source": [
    "Period 1"
   ]
  },
  {
   "cell_type": "code",
   "execution_count": 9,
   "metadata": {},
   "outputs": [
    {
     "name": "stdout",
     "output_type": "stream",
     "text": [
      "0.9717600666074746 0.9983637800228808\n"
     ]
    }
   ],
   "source": [
    "def period_1 (r_1d):\n",
    "    #risk neutral probability\n",
    "    pr_0_1 = (math.exp(r_0) - d) / (u - d)\n",
    "    \n",
    "    #interest-rates\n",
    "    r_1u = r_1d*math.exp(2*vol_2)\n",
    "    \n",
    "    #From period 2 to 1 valuation\n",
    "    val_2_1 = pr_0_1 * (100 / (1+r_1u)) + (1 - pr_0_1) * (100 / (1 + r_1d))\n",
    "    \n",
    "    #From period 0 to 1 valuation\n",
    "    val_0_1 = price_2*(1 + r_0)\n",
    "    \n",
    "    return val_2_1 - val_0_1\n",
    "\n",
    "#solve the equation\n",
    "r_1d = fsolve(period_1, [1])[0]\n",
    "r_1u = r_1d * math.exp(2*vol_2)\n",
    "\n",
    "print(r_1d*100,r_1u*100)\n",
    "\n",
    "#probability for the next period\n",
    "pr_0_1 = (math.exp(r_0) - d) / (u - d)"
   ]
  },
  {
   "cell_type": "markdown",
   "metadata": {},
   "source": [
    "Period 2"
   ]
  },
  {
   "cell_type": "code",
   "execution_count": 11,
   "metadata": {},
   "outputs": [
    {
     "name": "stdout",
     "output_type": "stream",
     "text": [
      "1.4734707492999255 1.5545481985034164 1.6400869190096927\n"
     ]
    }
   ],
   "source": [
    "def period_2 (r_2d):\n",
    "    #risk neutral probabilities for two nodes\n",
    "    pr_1d_2 = (math.exp(r_1d) - d) / (u - d)\n",
    "    pr_1u_2 = (math.exp(r_1u) - d) / (u - d)\n",
    "    #interest-rates\n",
    "    r_1u1d = r_2d*math.exp(2*vol_3)\n",
    "    r_2u   = r_2d*math.exp(4*vol_3)\n",
    "    #From period 3 to 2 valuation\n",
    "    val_r_1d = (pr_1d_2 * (100 / (1+r_1u1d)) + (1 - pr_1d_2) * (100 / (1+r_2d)))   \n",
    "    val_r_1u = (pr_1u_2 * (100 / (1+r_2u))   + (1 - pr_1u_2) * (100 / (1+r_1u1d)))\n",
    "    #From period 2 to 1 valuation\n",
    "    val_2_1  = pr_0_1 * (val_r_1u / (1+r_1u)) + (1-pr_0_1) * (val_r_1d / (1+r_1d))\n",
    "    #From period 0 to 1 valuation\n",
    "    val_0_1 = price_3*(1 + r_0)\n",
    "    \n",
    "    return val_2_1 - val_0_1\n",
    "\n",
    "#solve the equation\n",
    "r_2d   = fsolve(period_2, [1])[0]\n",
    "r_1u1d = r_2d * math.exp(2*vol_3)\n",
    "r_2u   = r_2d * math.exp(4*vol_3)\n",
    "print(r_2d*100,r_1u1d*100,r_2u*100)\n",
    "\n",
    "#probabilities for next period\n",
    "pr_1d_2 = (math.exp(r_1d) - d) / (u - d)\n",
    "pr_1u_2 = (math.exp(r_1u) - d) / (u - d)"
   ]
  },
  {
   "cell_type": "markdown",
   "metadata": {},
   "source": [
    "Period 3"
   ]
  },
  {
   "cell_type": "code",
   "execution_count": 12,
   "metadata": {},
   "outputs": [
    {
     "name": "stdout",
     "output_type": "stream",
     "text": [
      "1.417940712500544 1.5309312380752929 1.652925566670228 1.7846411785202096\n"
     ]
    }
   ],
   "source": [
    "def period_3 (r_3d):\n",
    "    #risk neutral probabilities for three nodes\n",
    "    pr_2d_3   = (math.exp(r_2d) -   d)   / (u - d)\n",
    "    pr_1d1u_3 = (math.exp(r_1u1d) - d)   / (u - d)\n",
    "    pr_2u_3   = (math.exp(r_2u) -   d)   / (u - d)\n",
    "    #interest-rates\n",
    "    r_2d1u = r_3d*math.exp(2*vol_4)\n",
    "    r_1d2u = r_3d*math.exp(4*vol_4)\n",
    "    r_3u   = r_3d*math.exp(6*vol_4)\n",
    "    #From period 4 to 3 valuation\n",
    "    val_r_2d   =   (pr_2d_3   * (100 / (1+r_2d1u)) + (1 - pr_2d_3)   * (100 / (1+r_3d)))\n",
    "    val_r_1d1u =   (pr_1d1u_3 * (100 / (1+r_1d2u)) + (1 - pr_1d1u_3) * (100 / (1+r_2d1u)))\n",
    "    val_r_2u   =   (pr_2u_3   * (100 / (1+r_3u))   + (1 - pr_2u_3)   * (100 / (1+r_1d2u)))\n",
    "    #From period 3 to 2 valuation\n",
    "    val_r_1d   =   pr_1d_2 * (val_r_1d1u / (1 + r_1u1d)) + (1 - pr_1d_2) * (val_r_2d   / (1 + r_2d))\n",
    "    val_r_1u   =   pr_1u_2 * (val_r_2u   / (1 + r_2u))   + (1 - pr_1u_2) * (val_r_1d1u / (1 + r_1u1d))\n",
    "    #From period 2 to 1 valuation\n",
    "    val_2_1    =   pr_0_1 * (val_r_1u / (1+r_1u)) + (1-pr_0_1) * (val_r_1d / (1+r_1d))\n",
    "    #From period 0 to 1 valuation\n",
    "    val_0_1 = price_4 * (1 + r_0)\n",
    "    \n",
    "    return val_2_1 - val_0_1\n",
    "\n",
    "#solve the equation\n",
    "r_3d     = fsolve(period_3, [1])[0]\n",
    "r_2d1u   = r_3d * math.exp(2*vol_4)\n",
    "r_1d2u   = r_3d * math.exp(4*vol_4)\n",
    "r_3u     = r_3d * math.exp(6*vol_4)\n",
    "print(r_3d*100, r_2d1u*100, r_1d2u*100, r_3u*100)\n",
    "\n",
    "#probabilities for next period\n",
    "pr_2d_3   = (math.exp(r_2d) -   d)   / (u - d)\n",
    "pr_1d1u_3 = (math.exp(r_1u1d) - d)   / (u - d)\n",
    "pr_2u_3   = (math.exp(r_2u) -   d)   / (u - d)\n"
   ]
  },
  {
   "cell_type": "markdown",
   "metadata": {},
   "source": [
    "Period 4"
   ]
  },
  {
   "cell_type": "code",
   "execution_count": 13,
   "metadata": {},
   "outputs": [
    {
     "name": "stdout",
     "output_type": "stream",
     "text": [
      "1.58527644834858 1.7583188707292803 1.950249910281184 2.163131372738005 2.3992501222824174\n"
     ]
    }
   ],
   "source": [
    "def period_4 (r_4d):\n",
    "    #risk neutral probabilities for four nodes\n",
    "    pr_3d_4    = (math.exp(r_3d) -   d)   / (u - d)\n",
    "    pr_2d1u_4  = (math.exp(r_2d1u) - d)   / (u - d)\n",
    "    pr_1d2u_4  = (math.exp(r_1d2u) - d)   / (u - d)\n",
    "    pr_3u_4    = (math.exp(r_3u) -   d)   / (u - d)\n",
    "    \n",
    "    #interest-rates\n",
    "    r_3d1u = r_4d*math.exp(2*vol_5)\n",
    "    r_2d2u = r_4d*math.exp(4*vol_5)\n",
    "    r_1d3u = r_4d*math.exp(6*vol_5)\n",
    "    r_4u   = r_4d*math.exp(8*vol_5)\n",
    "    \n",
    "    #From period 5 to 4 valuation\n",
    "    val_r_3d   =   (pr_3d_4   * (100 / (1+r_3d1u)) +  (1 - pr_3d_4)   * (100 / (1+r_4d)))\n",
    "    val_r_2d1u =   (pr_2d1u_4 * (100 / (1+r_2d2u)) +  (1 - pr_2d1u_4) * (100 / (1+r_3d1u)))\n",
    "    val_r_1d2u =   (pr_1d2u_4 * (100 / (1+r_1d3u)) +  (1 - pr_1d2u_4) * (100 / (1+r_2d2u)))\n",
    "    val_r_3u   =   (pr_3u_4   * (100 / (1+r_4u))   +  (1 - pr_3u_4)   * (100 / (1+r_1d3u)))\n",
    "    \n",
    "    #From period 4 to 3 valuation\n",
    "    val_r_2d   =   (pr_2d_3   * (val_r_2d1u / (1+r_2d1u)) + (1 - pr_2d_3)   * (val_r_3d / (1+r_3d)))\n",
    "    val_r_1d1u =   (pr_1d1u_3 * (val_r_1d2u / (1+r_1d2u)) + (1 - pr_1d1u_3) * (val_r_2d1u / (1+r_2d1u)))\n",
    "    val_r_2u   =   (pr_2u_3   * (val_r_3u   / (1+r_3u))   + (1 - pr_2u_3)   * (val_r_1d2u / (1+r_1d2u)))\n",
    "    \n",
    "    #From period 3 to 2 valuation\n",
    "    val_r_1d   =   pr_1d_2 * (val_r_1d1u / (1 + r_1u1d)) + (1 - pr_1d_2) * (val_r_2d   / (1 + r_2d))\n",
    "    val_r_1u   =   pr_1u_2 * (val_r_2u   / (1 + r_2u))   + (1 - pr_1u_2) * (val_r_1d1u / (1 + r_1u1d))\n",
    "    \n",
    "    #From period 2 to 1 valuation\n",
    "    val_2_1    =   pr_0_1 * (val_r_1u / (1+r_1u)) + (1-pr_0_1) * (val_r_1d / (1+r_1d))\n",
    "    \n",
    "    #From period 0 to 1 valuation\n",
    "    val_0_1 = price_5 * (1 + r_0)\n",
    "    \n",
    "    return val_2_1 - val_0_1\n",
    "\n",
    "#solve the equation\n",
    "r_4d     = fsolve(period_4, [1])[0]\n",
    "r_3d1u   = r_4d * math.exp(2*vol_5)\n",
    "r_2d2u   = r_4d * math.exp(4*vol_5)\n",
    "r_1d3u   = r_4d * math.exp(6*vol_5)\n",
    "r_4u     = r_4d * math.exp(8*vol_5)\n",
    "\n",
    "print(r_4d*100, r_3d1u*100, r_2d2u*100, r_1d3u*100, r_4u*100)\n",
    "\n",
    "#probabilities for next period\n",
    "pr_3d_4    = (math.exp(r_3d) -   d)   / (u - d)\n",
    "pr_2d1u_4  = (math.exp(r_2d1u) - d)   / (u - d)\n",
    "pr_1d2u_4  = (math.exp(r_1d2u) - d)   / (u - d)\n",
    "pr_3u_4    = (math.exp(r_3u) -   d)   / (u - d)"
   ]
  },
  {
   "cell_type": "code",
   "execution_count": 16,
   "metadata": {},
   "outputs": [],
   "source": [
    "#create dictionary for interest rates\n",
    "result = [{'Period' : 0, '0':r_0},\n",
    "          {'Period' : 1, '0':r_1d, '1':r_1u},\n",
    "          {'Period' : 2, '0':r_2d, '1':r_1u1d, '2':r_2u},\n",
    "          {'Period' : 3, '0':r_3d, '1':r_2d1u, '2':r_1d2u, '3':r_3u},\n",
    "          {'Period' : 4, '0':r_4d, '1':r_3d1u, '2':r_2d2u, '3':r_1d3u, '4': r_4u}]"
   ]
  },
  {
   "cell_type": "code",
   "execution_count": 17,
   "metadata": {},
   "outputs": [],
   "source": [
    "#create dataframe for interest rates\n",
    "interest_rates = pd.DataFrame(result)\n",
    "interest_rates.set_index('Period', inplace= True)\n",
    "interest_rates.fillna('-', inplace=True)"
   ]
  },
  {
   "cell_type": "code",
   "execution_count": 19,
   "metadata": {},
   "outputs": [],
   "source": [
    "#create dictionary for risk neutral probabilities\n",
    "probs = [ {'Period' : 0, '0':pr_0_1},\n",
    "          {'Period' : 1, '0':pr_1d_2, '1':pr_1u_2},\n",
    "          {'Period' : 2, '0':pr_2d_3, '1':pr_1d1u_3, '2':pr_2u_3},\n",
    "          {'Period' : 3, '0':pr_3d_4, '1':pr_2d1u_4, '2':pr_1d2u_4, '3':pr_3u_4}]"
   ]
  },
  {
   "cell_type": "code",
   "execution_count": 20,
   "metadata": {},
   "outputs": [],
   "source": [
    "#create dataframe for risk neutral probabilities\n",
    "risk_neutral = pd.DataFrame(probs)\n",
    "risk_neutral.set_index('Period', inplace= True)\n",
    "risk_neutral.fillna('-', inplace=True)"
   ]
  },
  {
   "cell_type": "code",
   "execution_count": 22,
   "metadata": {},
   "outputs": [],
   "source": [
    "#export dataframes to excel\n",
    "risk_neutral.to_excel('risk_neutral_probabilities.xlsx')\n",
    "interest_rates.to_excel('interest_rates.xlsx')"
   ]
  }
 ],
 "metadata": {
  "kernelspec": {
   "display_name": "Python 3",
   "language": "python",
   "name": "python3"
  },
  "language_info": {
   "codemirror_mode": {
    "name": "ipython",
    "version": 3
   },
   "file_extension": ".py",
   "mimetype": "text/x-python",
   "name": "python",
   "nbconvert_exporter": "python",
   "pygments_lexer": "ipython3",
   "version": "3.8.3"
  }
 },
 "nbformat": 4,
 "nbformat_minor": 4
}
